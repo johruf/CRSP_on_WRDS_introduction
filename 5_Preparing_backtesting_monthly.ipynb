{
 "cells": [
  {
   "cell_type": "markdown",
   "metadata": {},
   "source": [
    "# Preparing CRSP data for backtesting (monthly data)"
   ]
  },
  {
   "cell_type": "markdown",
   "metadata": {},
   "source": [
    "&copy; **Johannes Ruf** (comments welcome under j.ruf@lse.ac.uk, February 2023)"
   ]
  },
  {
   "cell_type": "markdown",
   "metadata": {},
   "source": [
    "In this notebook, we construct a dataframe `df` that can be used to backtest systematic trading strategies. The class of trading strategies to be considered are strategies that are functions of the stock capitalizations only (and don't depend on other characteristics, e.g., industries). \n",
    "\n",
    "The dataframe `df` will have three components: a matrix of returns, a matrix of market capitalizations, and a matrix of flags that tag problematic returns.\n",
    "\n",
    "A flag value of `0` implies no special issues. The remaining flag values are constructed as follows."
   ]
  },
  {
   "cell_type": "code",
   "execution_count": null,
   "metadata": {},
   "outputs": [],
   "source": [
    "FLAG_PROBLEMATIC_INTERMEDIATE_RETURN = 2\n",
    "\n",
    "FLAG_TEMPORARY_DELISTING = 3\n",
    "\n",
    "FLAG_DELRET_MISSING = 4\n",
    "\n",
    "FLAG_RETURN_BASED_ON_BA = 1    \n",
    "# if return is based on a bid-ask average and none of the above three flags valid"
   ]
  },
  {
   "cell_type": "markdown",
   "metadata": {},
   "source": [
    "Moreover, we add 10 to the flag value if the corresponding return is larger/smaller than the following cutoff:"
   ]
  },
  {
   "cell_type": "code",
   "execution_count": null,
   "metadata": {},
   "outputs": [],
   "source": [
    "CUTOFF_LARGE_RETURN = 1   # 1 corresponds to doubling over the month, i.e., a period return of 100%.\n",
    "CUTOFF_SMALL_RETURN = -0.5"
   ]
  },
  {
   "cell_type": "markdown",
   "metadata": {},
   "source": [
    "If securities are 'temporary delisted' (here defined as previous capitalization is available but return is missing, within a time series), we replace the first missing return in a consecutive sequence of missing returns by `TEMPORARY_DELISTING_RETURN`.\n",
    "\n",
    "If delisting returns are missing, we set them to `MISSING_DELIST_RETURN`. \n",
    "\n",
    "Of course, other values or methods to handle these returns are possible, too.  When backtesting trading strategies, robustness checks with respect to these assumptions are recommended (easily implemented thanks to the backtesting flags constructed below)."
   ]
  },
  {
   "cell_type": "code",
   "execution_count": null,
   "metadata": {},
   "outputs": [],
   "source": [
    "TEMPORARY_DELISTING_RETURN = -0.1\n",
    "MISSING_DELIST_RETURN = -0.3"
   ]
  },
  {
   "cell_type": "markdown",
   "metadata": {},
   "source": [
    "## Preparations"
   ]
  },
  {
   "cell_type": "code",
   "execution_count": null,
   "metadata": {},
   "outputs": [],
   "source": [
    "import pandas as pd\n",
    "\n",
    "import wrds\n",
    "WRDS_LOGIN = 'xxx'    # update to your login info on CRSP\n",
    "\n",
    "DATAPATH = '~/Desktop/YOUR_FOLDER_NAME/'"
   ]
  },
  {
   "cell_type": "code",
   "execution_count": null,
   "metadata": {},
   "outputs": [],
   "source": [
    "db = wrds.Connection(wrds_username=WRDS_LOGIN)"
   ]
  },
  {
   "cell_type": "markdown",
   "metadata": {},
   "source": [
    "## Loading the data"
   ]
  },
  {
   "cell_type": "markdown",
   "metadata": {},
   "source": [
    "The trading strategies we will consider may depend on the stocks' capitalizations. To avoid 'anticipatory' strategies, at any month we are only allowed to use the previous months' capitalizations."
   ]
  },
  {
   "cell_type": "code",
   "execution_count": null,
   "metadata": {},
   "outputs": [],
   "source": [
    "%%time\n",
    "\n",
    "df = db.raw_sql(\"\"\"SELECT mthcaldt, permno, mthprevcap, mthret,\n",
    "                          mthprcflg, mthdelflg, mthretflg \n",
    "                          FROM crsp.StkMthSecurityData\n",
    "                          WHERE \n",
    "                          sharetype = 'NS' AND securitysubtype = 'COM' \n",
    "                          AND issuertype IN ('ACOR','CORP') AND usincflg = 'Y'\n",
    "                          \"\"\", date_cols='mthcaldt')"
   ]
  },
  {
   "cell_type": "code",
   "execution_count": null,
   "metadata": {},
   "outputs": [],
   "source": [
    "df.info()"
   ]
  },
  {
   "cell_type": "markdown",
   "metadata": {},
   "source": [
    "## Outline of the cleaning steps"
   ]
  },
  {
   "cell_type": "markdown",
   "metadata": {},
   "source": [
    "We now proceed with the following steps:\n",
    "1) First, we do some preliminary cleaning steps and add a column to flag critical returns.\n",
    "2) We pivot the data so that each row corresponds to one date, and each column to a `permno`.\n",
    "3) We check and clean the beginning and end of each time series.\n",
    "4) We check and clean for 'temporary delistings'.\n",
    "5) We flag very large/small returns.\n",
    "6) We store the data."
   ]
  },
  {
   "cell_type": "markdown",
   "metadata": {},
   "source": [
    "## Preliminary cleaning steps"
   ]
  },
  {
   "cell_type": "markdown",
   "metadata": {},
   "source": [
    "Here, we check whether market capitalizations are available, whether returns are based on bid-ask spreads, and whether CRSP tagged returns as problematic (in particular, if intermediate returns are missing)."
   ]
  },
  {
   "cell_type": "markdown",
   "metadata": {},
   "source": [
    "#### Market capitalizations"
   ]
  },
  {
   "cell_type": "markdown",
   "metadata": {},
   "source": [
    "If we don't observe a market capitalization, we assume that we don't trade that security in the following period. Hence, we remove it from the investment universe:"
   ]
  },
  {
   "cell_type": "code",
   "execution_count": null,
   "metadata": {},
   "outputs": [],
   "source": [
    "bl = df['mthprevcap'].isnull()"
   ]
  },
  {
   "cell_type": "code",
   "execution_count": null,
   "metadata": {},
   "outputs": [],
   "source": [
    "print('This step removes {:_} ({:.2f}%) rows.'.format(bl.sum(), 100 * bl.sum() / len(df)))"
   ]
  },
  {
   "cell_type": "code",
   "execution_count": null,
   "metadata": {},
   "outputs": [],
   "source": [
    "df = df[~bl]"
   ]
  },
  {
   "cell_type": "markdown",
   "metadata": {},
   "source": [
    "#### A new column and prices based on bid-ask-spreads"
   ]
  },
  {
   "cell_type": "markdown",
   "metadata": {},
   "source": [
    "We now add a new column called `bcktstflg` ('backtesting flag') to the dataframe, where we flag all problematic returns. \n",
    "\n",
    "We first flag all returns that are based on a bid-ask-average instead of a trading price. (Those returns might be re-tagged if they correspond to a problematic intermediate return or a missing delisting return.)"
   ]
  },
  {
   "cell_type": "code",
   "execution_count": null,
   "metadata": {},
   "outputs": [],
   "source": [
    "bl = df['mthprcflg'].eq('BA')\n",
    "df = df.drop('mthprcflg', axis=1)"
   ]
  },
  {
   "cell_type": "code",
   "execution_count": null,
   "metadata": {},
   "outputs": [],
   "source": [
    "print('This step tags {:_} ({:.2f}%) rows.'.format(bl.sum(), 100 * bl.sum() / len(df)))"
   ]
  },
  {
   "cell_type": "code",
   "execution_count": null,
   "metadata": {},
   "outputs": [],
   "source": [
    "df['bcktstflg'] = 0\n",
    "df.loc[bl, 'bcktstflg'] = FLAG_RETURN_BASED_ON_BA"
   ]
  },
  {
   "cell_type": "markdown",
   "metadata": {},
   "source": [
    "#### Intermediate missing and problematic returns"
   ]
  },
  {
   "cell_type": "markdown",
   "metadata": {},
   "source": [
    "##### Preamble"
   ]
  },
  {
   "cell_type": "markdown",
   "metadata": {},
   "source": [
    "Compared to the legacy data, the new flat file format 2.0 has less missing price and return information. Two examples for this are `permno` 10346 (in 1996) and `permno` 10346 (in 1994)."
   ]
  },
  {
   "cell_type": "code",
   "execution_count": null,
   "metadata": {},
   "outputs": [],
   "source": [
    "db.raw_sql(\"SELECT mthcaldt, mthprc, mthret, mthcompflg, mthretflg FROM crsp.StkMthSecurityData WHERE permno = 10155\", \n",
    "           date_cols='mthcaldt').set_index('mthcaldt').loc['1996-08']"
   ]
  },
  {
   "cell_type": "code",
   "execution_count": null,
   "metadata": {},
   "outputs": [],
   "source": [
    "db.raw_sql(\"SELECT date, prc, ret FROM crsp.msf WHERE permno = 10155\", \n",
    "           date_cols='date').set_index('date').loc['1996-8']"
   ]
  },
  {
   "cell_type": "code",
   "execution_count": null,
   "metadata": {},
   "outputs": [],
   "source": [
    "db.raw_sql(\"SELECT mthcaldt, mthprc, mthret, mthcompflg, mthretflg FROM crsp.StkMthSecurityData WHERE permno = 10346\", \n",
    "           date_cols='mthcaldt').set_index('mthcaldt').loc['1994-05':'1994-09']"
   ]
  },
  {
   "cell_type": "code",
   "execution_count": null,
   "metadata": {},
   "outputs": [],
   "source": [
    "db.raw_sql(\"SELECT date, prc, ret FROM crsp.msf WHERE permno = 10346\", \n",
    "           date_cols='date').set_index('date').loc['1994-05':'1994-09']"
   ]
  },
  {
   "cell_type": "markdown",
   "metadata": {},
   "source": [
    "However, we have to be very careful with these returns. In the new data format, problematic prices and returns in the monthly file are flagged via the `mthcompflg` [flag](https://www.crsp.org/files/appendix/FlagType_CF.html) and the `mthretflg` [flag](https://www.crsp.org/files/appendix/FlagType_AR.html)."
   ]
  },
  {
   "cell_type": "markdown",
   "metadata": {},
   "source": [
    "##### Marking problematic and missing intermediate returns"
   ]
  },
  {
   "cell_type": "code",
   "execution_count": null,
   "metadata": {},
   "outputs": [],
   "source": [
    "bl = df['mthretflg'].isin(['NT', 'MP', 'IP', 'GP'])\n",
    "df = df.drop('mthretflg', axis=1)"
   ]
  },
  {
   "cell_type": "markdown",
   "metadata": {},
   "source": [
    "The above code captures all problematic returns. Indeed, `mthcompflg` in `StkMthSecurityData` can be `Y` or `R` in  additional rows; however, all of those additional rows have `mthretflg` set to `NS` (new security) or `DE` (delists) and are hence not representing specific issues for us. Some of the above tagged returns will be removed below, for example, when appearing at the beginning of a time series. "
   ]
  },
  {
   "cell_type": "code",
   "execution_count": null,
   "metadata": {},
   "outputs": [],
   "source": [
    "print('This step tags {:_} ({:.2f}%) rows.'.format(bl.sum(), 100 * bl.sum() / len(df)))"
   ]
  },
  {
   "cell_type": "code",
   "execution_count": null,
   "metadata": {},
   "outputs": [],
   "source": [
    "df.loc[bl, 'bcktstflg'] = FLAG_PROBLEMATIC_INTERMEDIATE_RETURN   \n",
    "# This step might potentially overwrite the FLAG_RETURN_BASED_ON_BA flag.  \n",
    "# These flags might be overwritten below in case they correspond to a 'temporary delisting'."
   ]
  },
  {
   "cell_type": "markdown",
   "metadata": {},
   "source": [
    "## Pivoting the data"
   ]
  },
  {
   "cell_type": "code",
   "execution_count": null,
   "metadata": {},
   "outputs": [],
   "source": [
    "%%time\n",
    "\n",
    "df = df.pivot(index='mthcaldt', columns='permno')"
   ]
  },
  {
   "cell_type": "code",
   "execution_count": null,
   "metadata": {},
   "outputs": [],
   "source": [
    "# check that index is sorted\n",
    "assert df['mthret'].index.is_monotonic_increasing"
   ]
  },
  {
   "cell_type": "markdown",
   "metadata": {},
   "source": [
    "## Cleaning the beginning and end of each time series"
   ]
  },
  {
   "cell_type": "markdown",
   "metadata": {},
   "source": [
    "####  Beginning of each time series"
   ]
  },
  {
   "cell_type": "markdown",
   "metadata": {},
   "source": [
    "Let's clean a bit the *beginning* of each time series. We remove entries corresponding to returns of assets that have not yet observed a valid return. Note that the following code cells only change the beginning of each time series. The intuition behind this cleaning step is that in real-time we would only start investing in such securities as soon as they are sufficiently well traded. "
   ]
  },
  {
   "cell_type": "code",
   "execution_count": null,
   "metadata": {},
   "outputs": [],
   "source": [
    "mask = df['mthret'].isnull() | df['bcktstflg'].gt(0) | df['mthdelflg'].isin(['G', 'M', 'V'])\n",
    "mask = mask.cummin()"
   ]
  },
  {
   "cell_type": "code",
   "execution_count": null,
   "metadata": {},
   "outputs": [],
   "source": [
    "%%time\n",
    "\n",
    "for c in df.columns.levels[0]:\n",
    "    df[c] = df[c].mask(mask)"
   ]
  },
  {
   "cell_type": "markdown",
   "metadata": {},
   "source": [
    "There are quite a few time series that correspond to assets in which we never would start investing according to this rule above. Many of these price time series have never observed trading prices (i.e. `mthprcflg` is set to `BA` throughout).\n",
    "\n",
    "We remove them from the dataframe in the following:"
   ]
  },
  {
   "cell_type": "code",
   "execution_count": null,
   "metadata": {},
   "outputs": [],
   "source": [
    "bl = mask.iloc[-1]"
   ]
  },
  {
   "cell_type": "code",
   "execution_count": null,
   "metadata": {},
   "outputs": [],
   "source": [
    "print('There are {} ({:.2f}%) time series without a valid return after removing missing data at the beginning.'.format(\n",
    "            bl.sum(), 100 * bl.mean()))"
   ]
  },
  {
   "cell_type": "code",
   "execution_count": null,
   "metadata": {},
   "outputs": [],
   "source": [
    "df = df.loc[:, df.columns.get_level_values('permno').isin(bl.index[~bl])]"
   ]
  },
  {
   "cell_type": "markdown",
   "metadata": {},
   "source": [
    "#### Delisting and cleaning the end of the time series"
   ]
  },
  {
   "cell_type": "markdown",
   "metadata": {},
   "source": [
    "We now remove missing returns at the end of each time series and set missing delisting returns to `MISSING_DELIST_RETURN`.  Note that a time series need not have a regular or missing delisting return; for example, if the security is still traded or fell out of the investment universe because of a change in status (e.g. change of `usincflg`).\n",
    "\n",
    "To understand the values of the related column `mthdelflg`, see [here](https://www.crsp.org/files/appendix/FlagType_DE.html)."
   ]
  },
  {
   "cell_type": "code",
   "execution_count": null,
   "metadata": {},
   "outputs": [],
   "source": [
    "mask = df['mthret'].isnull() | df['bcktstflg'].gt(0) | df['mthdelflg'].isin(['G', 'M', 'V'])\n",
    "\n",
    "mask = mask[::-1].cummin()[::-1]\n",
    "\n",
    "mask = mask.mask(df['bcktstflg'].isnull()[::-1].cummin()[::-1], other=False)\n",
    "\n",
    "df = df.drop('mthdelflg', axis=1, level=0)\n",
    "df.columns = df.columns.remove_unused_levels()"
   ]
  },
  {
   "cell_type": "code",
   "execution_count": null,
   "metadata": {},
   "outputs": [],
   "source": [
    "print('There are {} ({:.2f}%) time series whose return series at the end are being modified.'.format(\n",
    "    mask.any().sum(), 100 * mask.any().mean()))"
   ]
  },
  {
   "cell_type": "code",
   "execution_count": null,
   "metadata": {},
   "outputs": [],
   "source": [
    "print('There are {} returns being modified.'.format(mask.sum().sum()))"
   ]
  },
  {
   "cell_type": "code",
   "execution_count": null,
   "metadata": {},
   "outputs": [],
   "source": [
    "mask_first_return = mask & ~mask.shift(1, fill_value=False)   \n",
    "# the first of the problematic returns at the end of each problematic time series\n",
    "\n",
    "mask_others = mask & ~mask_first_return"
   ]
  },
  {
   "cell_type": "code",
   "execution_count": null,
   "metadata": {},
   "outputs": [],
   "source": [
    "df['mthret'] = df['mthret'].mask(mask_first_return, \n",
    "                                 other=df['mthret'].fillna(0).add(1).multiply(1 + MISSING_DELIST_RETURN).subtract(1))\n",
    "df['bcktstflg'] = df['bcktstflg'].mask(mask_first_return, other=FLAG_DELRET_MISSING)"
   ]
  },
  {
   "cell_type": "code",
   "execution_count": null,
   "metadata": {},
   "outputs": [],
   "source": [
    "for c in df.columns.levels[0]:\n",
    "    df[c] = df[c].mask(mask_others)"
   ]
  },
  {
   "cell_type": "code",
   "execution_count": null,
   "metadata": {},
   "outputs": [],
   "source": [
    "# Check that each return time series has at least one value\n",
    "assert df['mthret'].notnull().any().all()"
   ]
  },
  {
   "cell_type": "markdown",
   "metadata": {},
   "source": [
    "## Temporary delistings"
   ]
  },
  {
   "cell_type": "markdown",
   "metadata": {},
   "source": [
    "We now take care of missing returns for securities in the investment universe. Note that by the above manipulations, returns on delisting dates always exist."
   ]
  },
  {
   "cell_type": "code",
   "execution_count": null,
   "metadata": {},
   "outputs": [],
   "source": [
    "mask = df['mthret'].isnull() & df['bcktstflg'].notnull()"
   ]
  },
  {
   "cell_type": "markdown",
   "metadata": {},
   "source": [
    "We distinguish two cases: (a) the previous return exists (security was in the investment universe) and is not problematic (with corresponding flag equal to zero or `FLAG_RETURN_BASED_ON_BA`); \n",
    "(b) the previous return is problematic, doesn't exist, or the security was not in the investment universe.\n",
    "\n",
    "In case (a), we consider this situation as a temporary delisting.  In case (b), we assume any temporary delisting effects are already taken into account by the previous returns and we remove the security from the investment universe for that month."
   ]
  },
  {
   "cell_type": "code",
   "execution_count": null,
   "metadata": {},
   "outputs": [],
   "source": [
    "mask_tmp_delist = mask & df['bcktstflg'].shift(1).isin([0, FLAG_RETURN_BASED_ON_BA])\n",
    "mask_remove = mask & ~mask_tmp_delist"
   ]
  },
  {
   "cell_type": "code",
   "execution_count": null,
   "metadata": {},
   "outputs": [],
   "source": [
    "print(\"\"\"There are {} ({:.2f}%) time series that have temporary delistings (mthprevcap is given but return is \n",
    "missing and previous return was good).\"\"\".format(\n",
    "      mask_tmp_delist.any().sum(), 100 * mask_tmp_delist.any().mean()))\n",
    "print(\"In total, we have {} temporary delistings.\".format(mask_tmp_delist.sum().sum()))"
   ]
  },
  {
   "cell_type": "code",
   "execution_count": null,
   "metadata": {},
   "outputs": [],
   "source": [
    "df['mthret'] = df['mthret'].mask(mask_tmp_delist, other=TEMPORARY_DELISTING_RETURN)\n",
    "df['bcktstflg'] = df['bcktstflg'].mask(mask_tmp_delist, other=FLAG_TEMPORARY_DELISTING)"
   ]
  },
  {
   "cell_type": "code",
   "execution_count": null,
   "metadata": {},
   "outputs": [],
   "source": [
    "for c in df.columns.levels[0]:\n",
    "    df[c] = df[c].mask(mask_remove)"
   ]
  },
  {
   "cell_type": "markdown",
   "metadata": {},
   "source": [
    "## Flagging very large/small returns"
   ]
  },
  {
   "cell_type": "code",
   "execution_count": null,
   "metadata": {},
   "outputs": [],
   "source": [
    "mask = df['mthret'].gt(CUTOFF_LARGE_RETURN) | df['mthret'].lt(CUTOFF_SMALL_RETURN)"
   ]
  },
  {
   "cell_type": "code",
   "execution_count": null,
   "metadata": {},
   "outputs": [],
   "source": [
    "print('There are {} very large/small returns, which will be flagged.'.format(mask.sum().sum()))"
   ]
  },
  {
   "cell_type": "code",
   "execution_count": null,
   "metadata": {},
   "outputs": [],
   "source": [
    "print('These very large/small returns appear in {} ({:.2f}%) time series.'.format(\n",
    "            mask.any().sum(), 100 * mask.any().mean()))"
   ]
  },
  {
   "cell_type": "code",
   "execution_count": null,
   "metadata": {},
   "outputs": [],
   "source": [
    "df['bcktstflg'] = df['bcktstflg'].mask(mask, other=df['bcktstflg'].add(10))"
   ]
  },
  {
   "cell_type": "markdown",
   "metadata": {},
   "source": [
    "## Storing"
   ]
  },
  {
   "cell_type": "code",
   "execution_count": null,
   "metadata": {},
   "outputs": [],
   "source": [
    "with pd.HDFStore(DATAPATH + 'CRSP_monthly.h5') as store:\n",
    "    store['df'] = df"
   ]
  },
  {
   "cell_type": "markdown",
   "metadata": {},
   "source": [
    "## Some quick summary statistics:"
   ]
  },
  {
   "cell_type": "code",
   "execution_count": null,
   "metadata": {},
   "outputs": [],
   "source": [
    "df['bcktstflg'].stack().value_counts().sort_index()"
   ]
  },
  {
   "cell_type": "code",
   "execution_count": null,
   "metadata": {},
   "outputs": [],
   "source": [
    "df['bcktstflg'].stack().value_counts(normalize=True).sort_index()"
   ]
  },
  {
   "cell_type": "code",
   "execution_count": null,
   "metadata": {},
   "outputs": [],
   "source": []
  },
  {
   "cell_type": "code",
   "execution_count": null,
   "metadata": {},
   "outputs": [],
   "source": []
  },
  {
   "cell_type": "code",
   "execution_count": null,
   "metadata": {},
   "outputs": [],
   "source": [
    "db.close()"
   ]
  },
  {
   "cell_type": "code",
   "execution_count": null,
   "metadata": {},
   "outputs": [],
   "source": [
    "del df"
   ]
  },
  {
   "cell_type": "code",
   "execution_count": null,
   "metadata": {},
   "outputs": [],
   "source": []
  }
 ],
 "metadata": {
  "kernelspec": {
   "display_name": "Python 3 (ipykernel)",
   "language": "python",
   "name": "python3"
  },
  "language_info": {
   "codemirror_mode": {
    "name": "ipython",
    "version": 3
   },
   "file_extension": ".py",
   "mimetype": "text/x-python",
   "name": "python",
   "nbconvert_exporter": "python",
   "pygments_lexer": "ipython3",
   "version": "3.8.12"
  }
 },
 "nbformat": 4,
 "nbformat_minor": 4
}
